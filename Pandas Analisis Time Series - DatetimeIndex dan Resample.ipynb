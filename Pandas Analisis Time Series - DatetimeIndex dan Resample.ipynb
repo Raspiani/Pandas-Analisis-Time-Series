{
 "cells": [
  {
   "cell_type": "markdown",
   "metadata": {},
   "source": [
    "### Pandas Analisis Time Series - DatetimeIndex dan Resample\n",
    "\n",
    "    Berikut ini analisis time series menggunakan pandas yaitu melakukan datetimeIndex dan resample. "
   ]
  },
  {
   "cell_type": "markdown",
   "metadata": {},
   "source": [
    "#### datetimeIndex"
   ]
  },
  {
   "cell_type": "code",
   "execution_count": 68,
   "metadata": {},
   "outputs": [],
   "source": [
    "#memasukan modul yang digunakan\n",
    "import pandas as pd\n",
    "import matplotlib.pyplot as plt\n",
    "\n",
    "%matplotlib inline"
   ]
  },
  {
   "cell_type": "code",
   "execution_count": 69,
   "metadata": {},
   "outputs": [
    {
     "data": {
      "text/html": [
       "<div>\n",
       "<style scoped>\n",
       "    .dataframe tbody tr th:only-of-type {\n",
       "        vertical-align: middle;\n",
       "    }\n",
       "\n",
       "    .dataframe tbody tr th {\n",
       "        vertical-align: top;\n",
       "    }\n",
       "\n",
       "    .dataframe thead th {\n",
       "        text-align: right;\n",
       "    }\n",
       "</style>\n",
       "<table border=\"1\" class=\"dataframe\">\n",
       "  <thead>\n",
       "    <tr style=\"text-align: right;\">\n",
       "      <th></th>\n",
       "      <th>date</th>\n",
       "      <th>close</th>\n",
       "      <th>volume</th>\n",
       "      <th>open</th>\n",
       "      <th>high</th>\n",
       "      <th>low</th>\n",
       "    </tr>\n",
       "  </thead>\n",
       "  <tbody>\n",
       "    <tr>\n",
       "      <th>0</th>\n",
       "      <td>16:00</td>\n",
       "      <td>182.78</td>\n",
       "      <td>29,747,936</td>\n",
       "      <td>184.66</td>\n",
       "      <td>185.710</td>\n",
       "      <td>182.550</td>\n",
       "    </tr>\n",
       "    <tr>\n",
       "      <th>1</th>\n",
       "      <td>2019/05/22</td>\n",
       "      <td>182.78</td>\n",
       "      <td>29748560.0000</td>\n",
       "      <td>184.66</td>\n",
       "      <td>185.710</td>\n",
       "      <td>182.550</td>\n",
       "    </tr>\n",
       "    <tr>\n",
       "      <th>2</th>\n",
       "      <td>2019/05/21</td>\n",
       "      <td>186.60</td>\n",
       "      <td>28364850.0000</td>\n",
       "      <td>185.22</td>\n",
       "      <td>188.000</td>\n",
       "      <td>184.700</td>\n",
       "    </tr>\n",
       "    <tr>\n",
       "      <th>3</th>\n",
       "      <td>2019/05/20</td>\n",
       "      <td>183.09</td>\n",
       "      <td>38612290.0000</td>\n",
       "      <td>189.00</td>\n",
       "      <td>184.349</td>\n",
       "      <td>180.284</td>\n",
       "    </tr>\n",
       "    <tr>\n",
       "      <th>4</th>\n",
       "      <td>2019/05/17</td>\n",
       "      <td>189.00</td>\n",
       "      <td>32879090.0000</td>\n",
       "      <td>190.08</td>\n",
       "      <td>190.900</td>\n",
       "      <td>186.760</td>\n",
       "    </tr>\n",
       "  </tbody>\n",
       "</table>\n",
       "</div>"
      ],
      "text/plain": [
       "         date   close         volume    open     high      low\n",
       "0       16:00  182.78     29,747,936  184.66  185.710  182.550\n",
       "1  2019/05/22  182.78  29748560.0000  184.66  185.710  182.550\n",
       "2  2019/05/21  186.60  28364850.0000  185.22  188.000  184.700\n",
       "3  2019/05/20  183.09  38612290.0000  189.00  184.349  180.284\n",
       "4  2019/05/17  189.00  32879090.0000  190.08  190.900  186.760"
      ]
     },
     "execution_count": 69,
     "metadata": {},
     "output_type": "execute_result"
    }
   ],
   "source": [
    "#memasukan data\n",
    "data = pd.read_csv(\"C:/WinPython_64bit/notebooks/HistoricalQuotes.csv\")\n",
    "data.head()"
   ]
  },
  {
   "cell_type": "code",
   "execution_count": 70,
   "metadata": {},
   "outputs": [
    {
     "data": {
      "text/plain": [
       "64"
      ]
     },
     "execution_count": 70,
     "metadata": {},
     "output_type": "execute_result"
    }
   ],
   "source": [
    "#melihat panjang data\n",
    "len(data)"
   ]
  },
  {
   "cell_type": "code",
   "execution_count": 71,
   "metadata": {},
   "outputs": [
    {
     "data": {
      "text/plain": [
       "date       object\n",
       "close     float64\n",
       "volume     object\n",
       "open      float64\n",
       "high      float64\n",
       "low       float64\n",
       "dtype: object"
      ]
     },
     "execution_count": 71,
     "metadata": {},
     "output_type": "execute_result"
    }
   ],
   "source": [
    "#melihat tipe data \n",
    "data.dtypes"
   ]
  },
  {
   "cell_type": "code",
   "execution_count": 72,
   "metadata": {},
   "outputs": [
    {
     "data": {
      "text/plain": [
       "pandas.core.series.Series"
      ]
     },
     "execution_count": 72,
     "metadata": {},
     "output_type": "execute_result"
    }
   ],
   "source": [
    "#melihat type kolom date\n",
    "type(data['date'])"
   ]
  },
  {
   "cell_type": "code",
   "execution_count": 73,
   "metadata": {},
   "outputs": [
    {
     "data": {
      "text/html": [
       "<div>\n",
       "<style scoped>\n",
       "    .dataframe tbody tr th:only-of-type {\n",
       "        vertical-align: middle;\n",
       "    }\n",
       "\n",
       "    .dataframe tbody tr th {\n",
       "        vertical-align: top;\n",
       "    }\n",
       "\n",
       "    .dataframe thead th {\n",
       "        text-align: right;\n",
       "    }\n",
       "</style>\n",
       "<table border=\"1\" class=\"dataframe\">\n",
       "  <thead>\n",
       "    <tr style=\"text-align: right;\">\n",
       "      <th></th>\n",
       "      <th>close</th>\n",
       "      <th>volume</th>\n",
       "      <th>open</th>\n",
       "      <th>high</th>\n",
       "      <th>low</th>\n",
       "    </tr>\n",
       "    <tr>\n",
       "      <th>date</th>\n",
       "      <th></th>\n",
       "      <th></th>\n",
       "      <th></th>\n",
       "      <th></th>\n",
       "      <th></th>\n",
       "    </tr>\n",
       "  </thead>\n",
       "  <tbody>\n",
       "    <tr>\n",
       "      <th>2019-05-23 16:00:00</th>\n",
       "      <td>182.78</td>\n",
       "      <td>29,747,936</td>\n",
       "      <td>184.66</td>\n",
       "      <td>185.710</td>\n",
       "      <td>182.550</td>\n",
       "    </tr>\n",
       "    <tr>\n",
       "      <th>2019-05-22 00:00:00</th>\n",
       "      <td>182.78</td>\n",
       "      <td>29748560.0000</td>\n",
       "      <td>184.66</td>\n",
       "      <td>185.710</td>\n",
       "      <td>182.550</td>\n",
       "    </tr>\n",
       "    <tr>\n",
       "      <th>2019-05-21 00:00:00</th>\n",
       "      <td>186.60</td>\n",
       "      <td>28364850.0000</td>\n",
       "      <td>185.22</td>\n",
       "      <td>188.000</td>\n",
       "      <td>184.700</td>\n",
       "    </tr>\n",
       "    <tr>\n",
       "      <th>2019-05-20 00:00:00</th>\n",
       "      <td>183.09</td>\n",
       "      <td>38612290.0000</td>\n",
       "      <td>189.00</td>\n",
       "      <td>184.349</td>\n",
       "      <td>180.284</td>\n",
       "    </tr>\n",
       "    <tr>\n",
       "      <th>2019-05-17 00:00:00</th>\n",
       "      <td>189.00</td>\n",
       "      <td>32879090.0000</td>\n",
       "      <td>190.08</td>\n",
       "      <td>190.900</td>\n",
       "      <td>186.760</td>\n",
       "    </tr>\n",
       "  </tbody>\n",
       "</table>\n",
       "</div>"
      ],
      "text/plain": [
       "                      close         volume    open     high      low\n",
       "date                                                                \n",
       "2019-05-23 16:00:00  182.78     29,747,936  184.66  185.710  182.550\n",
       "2019-05-22 00:00:00  182.78  29748560.0000  184.66  185.710  182.550\n",
       "2019-05-21 00:00:00  186.60  28364850.0000  185.22  188.000  184.700\n",
       "2019-05-20 00:00:00  183.09  38612290.0000  189.00  184.349  180.284\n",
       "2019-05-17 00:00:00  189.00  32879090.0000  190.08  190.900  186.760"
      ]
     },
     "execution_count": 73,
     "metadata": {},
     "output_type": "execute_result"
    }
   ],
   "source": [
    "#menambahkan parse_dates=['date'], index_col=\"date\"\n",
    "\n",
    "data = pd.read_csv(\"C:/WinPython_64bit/notebooks/HistoricalQuotes.csv\", parse_dates=['date'], index_col=\"date\")\n",
    "data.head()"
   ]
  },
  {
   "cell_type": "code",
   "execution_count": 74,
   "metadata": {
    "scrolled": true
   },
   "outputs": [
    {
     "data": {
      "text/plain": [
       "DatetimeIndex(['2019-05-23 16:00:00', '2019-05-22 00:00:00',\n",
       "               '2019-05-21 00:00:00', '2019-05-20 00:00:00',\n",
       "               '2019-05-17 00:00:00', '2019-05-16 00:00:00',\n",
       "               '2019-05-15 00:00:00', '2019-05-14 00:00:00',\n",
       "               '2019-05-13 00:00:00', '2019-05-10 00:00:00',\n",
       "               '2019-05-09 00:00:00', '2019-05-08 00:00:00',\n",
       "               '2019-05-07 00:00:00', '2019-05-06 00:00:00',\n",
       "               '2019-05-03 00:00:00', '2019-05-02 00:00:00',\n",
       "               '2019-05-01 00:00:00', '2019-04-30 00:00:00',\n",
       "               '2019-04-29 00:00:00', '2019-04-26 00:00:00',\n",
       "               '2019-04-25 00:00:00', '2019-04-24 00:00:00',\n",
       "               '2019-04-23 00:00:00', '2019-04-22 00:00:00',\n",
       "               '2019-04-18 00:00:00', '2019-04-17 00:00:00',\n",
       "               '2019-04-16 00:00:00', '2019-04-15 00:00:00',\n",
       "               '2019-04-12 00:00:00', '2019-04-11 00:00:00',\n",
       "               '2019-04-10 00:00:00', '2019-04-09 00:00:00',\n",
       "               '2019-04-08 00:00:00', '2019-04-05 00:00:00',\n",
       "               '2019-04-04 00:00:00', '2019-04-03 00:00:00',\n",
       "               '2019-04-02 00:00:00', '2019-04-01 00:00:00',\n",
       "               '2019-03-29 00:00:00', '2019-03-28 00:00:00',\n",
       "               '2019-03-27 00:00:00', '2019-03-26 00:00:00',\n",
       "               '2019-03-25 00:00:00', '2019-03-22 00:00:00',\n",
       "               '2019-03-21 00:00:00', '2019-03-20 00:00:00',\n",
       "               '2019-03-19 00:00:00', '2019-03-18 00:00:00',\n",
       "               '2019-03-15 00:00:00', '2019-03-14 00:00:00',\n",
       "               '2019-03-13 00:00:00', '2019-03-12 00:00:00',\n",
       "               '2019-03-11 00:00:00', '2019-03-08 00:00:00',\n",
       "               '2019-03-07 00:00:00', '2019-03-06 00:00:00',\n",
       "               '2019-03-05 00:00:00', '2019-03-04 00:00:00',\n",
       "               '2019-03-01 00:00:00', '2019-02-28 00:00:00',\n",
       "               '2019-02-27 00:00:00', '2019-02-26 00:00:00',\n",
       "               '2019-02-25 00:00:00', '2019-02-22 00:00:00'],\n",
       "              dtype='datetime64[ns]', name='date', freq=None)"
      ]
     },
     "execution_count": 74,
     "metadata": {},
     "output_type": "execute_result"
    }
   ],
   "source": [
    "#melihat list kolom date\n",
    "data.index"
   ]
  },
  {
   "cell_type": "code",
   "execution_count": 75,
   "metadata": {},
   "outputs": [
    {
     "data": {
      "text/html": [
       "<div>\n",
       "<style scoped>\n",
       "    .dataframe tbody tr th:only-of-type {\n",
       "        vertical-align: middle;\n",
       "    }\n",
       "\n",
       "    .dataframe tbody tr th {\n",
       "        vertical-align: top;\n",
       "    }\n",
       "\n",
       "    .dataframe thead th {\n",
       "        text-align: right;\n",
       "    }\n",
       "</style>\n",
       "<table border=\"1\" class=\"dataframe\">\n",
       "  <thead>\n",
       "    <tr style=\"text-align: right;\">\n",
       "      <th></th>\n",
       "      <th>close</th>\n",
       "      <th>volume</th>\n",
       "      <th>open</th>\n",
       "      <th>high</th>\n",
       "      <th>low</th>\n",
       "    </tr>\n",
       "    <tr>\n",
       "      <th>date</th>\n",
       "      <th></th>\n",
       "      <th></th>\n",
       "      <th></th>\n",
       "      <th></th>\n",
       "      <th></th>\n",
       "    </tr>\n",
       "  </thead>\n",
       "  <tbody>\n",
       "    <tr>\n",
       "      <th>2019-02-28</th>\n",
       "      <td>173.15</td>\n",
       "      <td>27953810.0000</td>\n",
       "      <td>174.32</td>\n",
       "      <td>174.91</td>\n",
       "      <td>172.9200</td>\n",
       "    </tr>\n",
       "    <tr>\n",
       "      <th>2019-02-27</th>\n",
       "      <td>174.87</td>\n",
       "      <td>27817640.0000</td>\n",
       "      <td>173.21</td>\n",
       "      <td>175.00</td>\n",
       "      <td>172.7300</td>\n",
       "    </tr>\n",
       "    <tr>\n",
       "      <th>2019-02-26</th>\n",
       "      <td>174.33</td>\n",
       "      <td>16991610.0000</td>\n",
       "      <td>173.71</td>\n",
       "      <td>175.30</td>\n",
       "      <td>173.1732</td>\n",
       "    </tr>\n",
       "    <tr>\n",
       "      <th>2019-02-25</th>\n",
       "      <td>174.23</td>\n",
       "      <td>21846400.0000</td>\n",
       "      <td>174.16</td>\n",
       "      <td>175.87</td>\n",
       "      <td>173.9500</td>\n",
       "    </tr>\n",
       "    <tr>\n",
       "      <th>2019-02-22</th>\n",
       "      <td>172.97</td>\n",
       "      <td>18890250.0000</td>\n",
       "      <td>171.58</td>\n",
       "      <td>173.00</td>\n",
       "      <td>171.3800</td>\n",
       "    </tr>\n",
       "  </tbody>\n",
       "</table>\n",
       "</div>"
      ],
      "text/plain": [
       "             close         volume    open    high       low\n",
       "date                                                       \n",
       "2019-02-28  173.15  27953810.0000  174.32  174.91  172.9200\n",
       "2019-02-27  174.87  27817640.0000  173.21  175.00  172.7300\n",
       "2019-02-26  174.33  16991610.0000  173.71  175.30  173.1732\n",
       "2019-02-25  174.23  21846400.0000  174.16  175.87  173.9500\n",
       "2019-02-22  172.97  18890250.0000  171.58  173.00  171.3800"
      ]
     },
     "execution_count": 75,
     "metadata": {},
     "output_type": "execute_result"
    }
   ],
   "source": [
    "#mengambil data, hanya pada tahun 2019 dan bulan februari untuk semua tanggalnya pada semua kolom.\n",
    "data['2019-02']"
   ]
  },
  {
   "cell_type": "code",
   "execution_count": 76,
   "metadata": {},
   "outputs": [
    {
     "data": {
      "text/plain": [
       "date\n",
       "2019-02-28    173.15\n",
       "2019-02-27    174.87\n",
       "2019-02-26    174.33\n",
       "2019-02-25    174.23\n",
       "2019-02-22    172.97\n",
       "Name: close, dtype: float64"
      ]
     },
     "execution_count": 76,
     "metadata": {},
     "output_type": "execute_result"
    }
   ],
   "source": [
    "#mengambil data pada tahun dan tanggal 2019-02 hanya untuk kolom close\n",
    "data['2019-02'].close"
   ]
  },
  {
   "cell_type": "code",
   "execution_count": 78,
   "metadata": {},
   "outputs": [
    {
     "data": {
      "text/plain": [
       "173.91000000000003"
      ]
     },
     "execution_count": 78,
     "metadata": {},
     "output_type": "execute_result"
    }
   ],
   "source": [
    "data['2019-02'].close.mean()"
   ]
  },
  {
   "cell_type": "code",
   "execution_count": 79,
   "metadata": {},
   "outputs": [
    {
     "data": {
      "text/html": [
       "<div>\n",
       "<style scoped>\n",
       "    .dataframe tbody tr th:only-of-type {\n",
       "        vertical-align: middle;\n",
       "    }\n",
       "\n",
       "    .dataframe tbody tr th {\n",
       "        vertical-align: top;\n",
       "    }\n",
       "\n",
       "    .dataframe thead th {\n",
       "        text-align: right;\n",
       "    }\n",
       "</style>\n",
       "<table border=\"1\" class=\"dataframe\">\n",
       "  <thead>\n",
       "    <tr style=\"text-align: right;\">\n",
       "      <th></th>\n",
       "      <th>close</th>\n",
       "      <th>volume</th>\n",
       "      <th>open</th>\n",
       "      <th>high</th>\n",
       "      <th>low</th>\n",
       "    </tr>\n",
       "    <tr>\n",
       "      <th>date</th>\n",
       "      <th></th>\n",
       "      <th></th>\n",
       "      <th></th>\n",
       "      <th></th>\n",
       "      <th></th>\n",
       "    </tr>\n",
       "  </thead>\n",
       "  <tbody>\n",
       "    <tr>\n",
       "      <th>2019-02-27</th>\n",
       "      <td>174.87</td>\n",
       "      <td>27817640.0000</td>\n",
       "      <td>173.21</td>\n",
       "      <td>175.0</td>\n",
       "      <td>172.73</td>\n",
       "    </tr>\n",
       "  </tbody>\n",
       "</table>\n",
       "</div>"
      ],
      "text/plain": [
       "             close         volume    open   high     low\n",
       "date                                                    \n",
       "2019-02-27  174.87  27817640.0000  173.21  175.0  172.73"
      ]
     },
     "execution_count": 79,
     "metadata": {},
     "output_type": "execute_result"
    }
   ],
   "source": [
    "#mengambil data hanya untuk tanggal 2019-02-27\n",
    "data['2019-02-27']"
   ]
  },
  {
   "cell_type": "code",
   "execution_count": 80,
   "metadata": {
    "scrolled": false
   },
   "outputs": [
    {
     "data": {
      "text/html": [
       "<div>\n",
       "<style scoped>\n",
       "    .dataframe tbody tr th:only-of-type {\n",
       "        vertical-align: middle;\n",
       "    }\n",
       "\n",
       "    .dataframe tbody tr th {\n",
       "        vertical-align: top;\n",
       "    }\n",
       "\n",
       "    .dataframe thead th {\n",
       "        text-align: right;\n",
       "    }\n",
       "</style>\n",
       "<table border=\"1\" class=\"dataframe\">\n",
       "  <thead>\n",
       "    <tr style=\"text-align: right;\">\n",
       "      <th></th>\n",
       "      <th>close</th>\n",
       "      <th>volume</th>\n",
       "      <th>open</th>\n",
       "      <th>high</th>\n",
       "      <th>low</th>\n",
       "    </tr>\n",
       "    <tr>\n",
       "      <th>date</th>\n",
       "      <th></th>\n",
       "      <th></th>\n",
       "      <th></th>\n",
       "      <th></th>\n",
       "      <th></th>\n",
       "    </tr>\n",
       "  </thead>\n",
       "  <tbody>\n",
       "    <tr>\n",
       "      <th>2019-03-15</th>\n",
       "      <td>186.12</td>\n",
       "      <td>39017490.0000</td>\n",
       "      <td>184.85</td>\n",
       "      <td>187.33</td>\n",
       "      <td>183.7400</td>\n",
       "    </tr>\n",
       "    <tr>\n",
       "      <th>2019-03-14</th>\n",
       "      <td>183.73</td>\n",
       "      <td>23527660.0000</td>\n",
       "      <td>183.90</td>\n",
       "      <td>184.10</td>\n",
       "      <td>182.5600</td>\n",
       "    </tr>\n",
       "    <tr>\n",
       "      <th>2019-03-13</th>\n",
       "      <td>181.71</td>\n",
       "      <td>30929740.0000</td>\n",
       "      <td>182.25</td>\n",
       "      <td>183.30</td>\n",
       "      <td>180.9200</td>\n",
       "    </tr>\n",
       "    <tr>\n",
       "      <th>2019-03-12</th>\n",
       "      <td>180.91</td>\n",
       "      <td>32416800.0000</td>\n",
       "      <td>180.00</td>\n",
       "      <td>182.67</td>\n",
       "      <td>179.3700</td>\n",
       "    </tr>\n",
       "    <tr>\n",
       "      <th>2019-03-11</th>\n",
       "      <td>178.90</td>\n",
       "      <td>31123000.0000</td>\n",
       "      <td>175.49</td>\n",
       "      <td>179.12</td>\n",
       "      <td>175.3500</td>\n",
       "    </tr>\n",
       "    <tr>\n",
       "      <th>2019-03-08</th>\n",
       "      <td>172.91</td>\n",
       "      <td>23985960.0000</td>\n",
       "      <td>170.32</td>\n",
       "      <td>173.07</td>\n",
       "      <td>169.5000</td>\n",
       "    </tr>\n",
       "    <tr>\n",
       "      <th>2019-03-07</th>\n",
       "      <td>172.50</td>\n",
       "      <td>24755470.0000</td>\n",
       "      <td>173.87</td>\n",
       "      <td>174.44</td>\n",
       "      <td>172.0200</td>\n",
       "    </tr>\n",
       "    <tr>\n",
       "      <th>2019-03-06</th>\n",
       "      <td>174.52</td>\n",
       "      <td>20755140.0000</td>\n",
       "      <td>174.67</td>\n",
       "      <td>175.49</td>\n",
       "      <td>173.9400</td>\n",
       "    </tr>\n",
       "    <tr>\n",
       "      <th>2019-03-05</th>\n",
       "      <td>175.53</td>\n",
       "      <td>19238480.0000</td>\n",
       "      <td>175.94</td>\n",
       "      <td>176.00</td>\n",
       "      <td>174.5400</td>\n",
       "    </tr>\n",
       "    <tr>\n",
       "      <th>2019-03-04</th>\n",
       "      <td>175.85</td>\n",
       "      <td>27413060.0000</td>\n",
       "      <td>175.69</td>\n",
       "      <td>177.75</td>\n",
       "      <td>173.9700</td>\n",
       "    </tr>\n",
       "    <tr>\n",
       "      <th>2019-03-01</th>\n",
       "      <td>174.97</td>\n",
       "      <td>25737560.0000</td>\n",
       "      <td>174.28</td>\n",
       "      <td>175.15</td>\n",
       "      <td>172.8900</td>\n",
       "    </tr>\n",
       "    <tr>\n",
       "      <th>2019-02-28</th>\n",
       "      <td>173.15</td>\n",
       "      <td>27953810.0000</td>\n",
       "      <td>174.32</td>\n",
       "      <td>174.91</td>\n",
       "      <td>172.9200</td>\n",
       "    </tr>\n",
       "    <tr>\n",
       "      <th>2019-02-27</th>\n",
       "      <td>174.87</td>\n",
       "      <td>27817640.0000</td>\n",
       "      <td>173.21</td>\n",
       "      <td>175.00</td>\n",
       "      <td>172.7300</td>\n",
       "    </tr>\n",
       "    <tr>\n",
       "      <th>2019-02-26</th>\n",
       "      <td>174.33</td>\n",
       "      <td>16991610.0000</td>\n",
       "      <td>173.71</td>\n",
       "      <td>175.30</td>\n",
       "      <td>173.1732</td>\n",
       "    </tr>\n",
       "    <tr>\n",
       "      <th>2019-02-25</th>\n",
       "      <td>174.23</td>\n",
       "      <td>21846400.0000</td>\n",
       "      <td>174.16</td>\n",
       "      <td>175.87</td>\n",
       "      <td>173.9500</td>\n",
       "    </tr>\n",
       "    <tr>\n",
       "      <th>2019-02-22</th>\n",
       "      <td>172.97</td>\n",
       "      <td>18890250.0000</td>\n",
       "      <td>171.58</td>\n",
       "      <td>173.00</td>\n",
       "      <td>171.3800</td>\n",
       "    </tr>\n",
       "  </tbody>\n",
       "</table>\n",
       "</div>"
      ],
      "text/plain": [
       "             close         volume    open    high       low\n",
       "date                                                       \n",
       "2019-03-15  186.12  39017490.0000  184.85  187.33  183.7400\n",
       "2019-03-14  183.73  23527660.0000  183.90  184.10  182.5600\n",
       "2019-03-13  181.71  30929740.0000  182.25  183.30  180.9200\n",
       "2019-03-12  180.91  32416800.0000  180.00  182.67  179.3700\n",
       "2019-03-11  178.90  31123000.0000  175.49  179.12  175.3500\n",
       "2019-03-08  172.91  23985960.0000  170.32  173.07  169.5000\n",
       "2019-03-07  172.50  24755470.0000  173.87  174.44  172.0200\n",
       "2019-03-06  174.52  20755140.0000  174.67  175.49  173.9400\n",
       "2019-03-05  175.53  19238480.0000  175.94  176.00  174.5400\n",
       "2019-03-04  175.85  27413060.0000  175.69  177.75  173.9700\n",
       "2019-03-01  174.97  25737560.0000  174.28  175.15  172.8900\n",
       "2019-02-28  173.15  27953810.0000  174.32  174.91  172.9200\n",
       "2019-02-27  174.87  27817640.0000  173.21  175.00  172.7300\n",
       "2019-02-26  174.33  16991610.0000  173.71  175.30  173.1732\n",
       "2019-02-25  174.23  21846400.0000  174.16  175.87  173.9500\n",
       "2019-02-22  172.97  18890250.0000  171.58  173.00  171.3800"
      ]
     },
     "execution_count": 80,
     "metadata": {},
     "output_type": "execute_result"
    }
   ],
   "source": [
    "#mengambil data dari tanggal 2019-03-15 sampai baris terakhir\n",
    "data['2019-03-15':]"
   ]
  },
  {
   "cell_type": "markdown",
   "metadata": {},
   "source": [
    "#### Resample"
   ]
  },
  {
   "cell_type": "code",
   "execution_count": 81,
   "metadata": {
    "scrolled": false
   },
   "outputs": [
    {
     "data": {
      "text/plain": [
       "date\n",
       "2019-02-28    173.910000\n",
       "2019-03-31    183.293810\n",
       "2019-04-30    200.516190\n",
       "2019-05-31    195.481765\n",
       "Freq: M, Name: close, dtype: float64"
      ]
     },
     "execution_count": 81,
     "metadata": {},
     "output_type": "execute_result"
    }
   ],
   "source": [
    "#melakukan resample untuk kolom close dengan resample('M') berdasarkan rata-rata\n",
    "data.close.resample('M').mean()"
   ]
  },
  {
   "cell_type": "code",
   "execution_count": 85,
   "metadata": {},
   "outputs": [
    {
     "data": {
      "text/plain": [
       "195.48176470588237"
      ]
     },
     "execution_count": 85,
     "metadata": {},
     "output_type": "execute_result"
    }
   ],
   "source": [
    "#bukti untuk melihat rata-rata harga close dari tanggal awal sampai :'2019-05-01'\n",
    "data[:'2019-05-01'].close.mean()"
   ]
  },
  {
   "cell_type": "code",
   "execution_count": 86,
   "metadata": {},
   "outputs": [
    {
     "data": {
      "text/plain": [
       "<matplotlib.axes._subplots.AxesSubplot at 0x2193191cc18>"
      ]
     },
     "execution_count": 86,
     "metadata": {},
     "output_type": "execute_result"
    },
    {
     "data": {
      "image/png": "[encoded data removed]",
      "text/plain": [
       "<Figure size 432x288 with 1 Axes>"
      ]
     },
     "metadata": {},
     "output_type": "display_data"
    }
   ],
   "source": [
    "#menggambarkan hasil resample data close\n",
    "data.close.resample('M').mean().plot()"
   ]
  },
  {
   "cell_type": "code",
   "execution_count": 87,
   "metadata": {
    "scrolled": true
   },
   "outputs": [
    {
     "data": {
      "text/plain": [
       "<matplotlib.axes._subplots.AxesSubplot at 0x21931952860>"
      ]
     },
     "execution_count": 87,
     "metadata": {},
     "output_type": "execute_result"
    },
    {
     "data": {
      "image/png": "[encoded data removed]",
      "text/plain": [
       "<Figure size 432x288 with 1 Axes>"
      ]
     },
     "metadata": {},
     "output_type": "display_data"
    }
   ],
   "source": [
    "#melakukan resample untuk kolom close dengan resample('W') berdasarkan rata-rata\n",
    "#menggambarkan hasil resample ('W')\n",
    "data.close.resample('W').mean().plot()"
   ]
  },
  {
   "cell_type": "markdown",
   "metadata": {},
   "source": [
    "#### Catatan : \n",
    "Tekan Shift pada ('W') untuk melihat info help lebih lengkap.\n",
    "\n",
    "http://pandas.pydata.org/pandas-docs/stable/user_guide/timeseries.html"
   ]
  },
  {
   "cell_type": "code",
   "execution_count": 88,
   "metadata": {},
   "outputs": [
    {
     "data": {
      "text/plain": [
       "<matplotlib.axes._subplots.AxesSubplot at 0x219318fbac8>"
      ]
     },
     "execution_count": 88,
     "metadata": {},
     "output_type": "execute_result"
    },
    {
     "data": {
      "image/png": "[encoded data removed]",
      "text/plain": [
       "<Figure size 432x288 with 1 Axes>"
      ]
     },
     "metadata": {},
     "output_type": "display_data"
    }
   ],
   "source": [
    "#melakukan resample untuk kolom close dengan resample('Q') berdasarkan rata-rata\n",
    "#menggambarkan hasil resample ('q')\n",
    "\n",
    "data.close.resample('Q').mean().plot()"
   ]
  },
  {
   "cell_type": "code",
   "execution_count": 89,
   "metadata": {},
   "outputs": [
    {
     "data": {
      "text/plain": [
       "<matplotlib.axes._subplots.AxesSubplot at 0x21931843748>"
      ]
     },
     "execution_count": 89,
     "metadata": {},
     "output_type": "execute_result"
    },
    {
     "data": {
      "image/png": "[encoded data removed]",
      "text/plain": [
       "<Figure size 432x288 with 1 Axes>"
      ]
     },
     "metadata": {},
     "output_type": "display_data"
    }
   ],
   "source": [
    "#melakukan resample untuk kolom close dengan resample('W') berdasarkan rata-rata\n",
    "#menggambarkan hasil resample ('W')\n",
    "#menggambarkan dengan plot yang jenisnya bar plot kind='bar'\n",
    "\n",
    "data.close.resample('W').mean().plot(kind='bar')"
   ]
  },
  {
   "cell_type": "code",
   "execution_count": 90,
   "metadata": {},
   "outputs": [
    {
     "data": {
      "text/plain": [
       "<matplotlib.axes._subplots.AxesSubplot at 0x21931a38940>"
      ]
     },
     "execution_count": 90,
     "metadata": {},
     "output_type": "execute_result"
    },
    {
     "data": {
      "image/png": "[encoded data removed]",
      "text/plain": [
       "<Figure size 432x288 with 1 Axes>"
      ]
     },
     "metadata": {},
     "output_type": "display_data"
    }
   ],
   "source": [
    "#melihat data close \n",
    "#menggambarkan data close\n",
    "data.close.plot()"
   ]
  },
  {
   "cell_type": "markdown",
   "metadata": {},
   "source": [
    "                    ##Semoga Bermanfaat\n",
    "                    ##@Raspiani_"
   ]
  }
 ],
 "metadata": {
  "kernelspec": {
   "display_name": "Python 3",
   "language": "python",
   "name": "python3"
  },
  "language_info": {
   "codemirror_mode": {
    "name": "ipython",
    "version": 3
   },
   "file_extension": ".py",
   "mimetype": "text/x-python",
   "name": "python",
   "nbconvert_exporter": "python",
   "pygments_lexer": "ipython3",
   "version": "3.6.5"
  }
 },
 "nbformat": 4,
 "nbformat_minor": 2
}
